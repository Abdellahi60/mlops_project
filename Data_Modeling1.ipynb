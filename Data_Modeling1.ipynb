{
 "cells": [
  {
   "cell_type": "code",
   "execution_count": 45,
   "id": "567c994d",
   "metadata": {},
   "outputs": [],
   "source": [
    "import pandas as pd\n",
    "import mlflow\n",
    "import mlflow.sklearn\n",
    "from sklearn.model_selection import train_test_split\n",
    "from sklearn.preprocessing import OneHotEncoder, StandardScaler\n",
    "from sklearn.linear_model import LogisticRegression\n",
    "from sklearn.ensemble import RandomForestClassifier\n",
    "from sklearn.compose import ColumnTransformer\n",
    "from sklearn.metrics import f1_score, fbeta_score, confusion_matrix\n",
    "from sklearn.metrics import precision_recall_fscore_support as score\n",
    "\n",
    "\n"
   ]
  },
  {
   "cell_type": "markdown",
   "id": "01b0fbc4",
   "metadata": {},
   "source": [
    "X_train, X_test, y_train, y_test = transform_data(data)\n"
   ]
  },
  {
   "cell_type": "code",
   "execution_count": 46,
   "id": "74c9bf8f",
   "metadata": {},
   "outputs": [],
   "source": [
    "import os\n",
    "os.environ['MLFLOW_TRACKING_USERNAME']= \"Abdellahi60\"\n",
    "os.environ[\"MLFLOW_TRACKING_PASSWORD\"] = \"6870def210d626bd8f3c95f27c52207fb377ce80\""
   ]
  },
  {
   "cell_type": "code",
   "execution_count": 47,
   "id": "f6dee82f",
   "metadata": {},
   "outputs": [
    {
     "data": {
      "text/plain": [
       "<Experiment: artifact_location='mlflow-artifacts:/17c91d3dd12c4d9faa80b11479c88b93', creation_time=1732651162195, experiment_id='0', last_update_time=1732651162195, lifecycle_stage='active', name='IDSD_SD-experiment', tags={}>"
      ]
     },
     "execution_count": 47,
     "metadata": {},
     "output_type": "execute_result"
    }
   ],
   "source": [
    "#setup mlflow\n",
    "mlflow.set_tracking_uri('https://dagshub.com/Abdellahi60/mlops-bootcamp.mlflow') #your mlfow tracking uri\n",
    "mlflow.set_experiment(\"IDSD_SD-experiment\")"
   ]
  },
  {
   "cell_type": "code",
   "execution_count": 5,
   "id": "c66f3543",
   "metadata": {},
   "outputs": [],
   "source": [
    "version = \"v1.0\""
   ]
  },
  {
   "cell_type": "code",
   "execution_count": 48,
   "id": "cf4eff1d",
   "metadata": {},
   "outputs": [],
   "source": [
    "data_url = \"bac.csv\"  # Mettez à jour le chemin vers votre fichier de données\n",
    "bac = pd.read_csv(data_url)"
   ]
  },
  {
   "cell_type": "code",
   "execution_count": 50,
   "id": "ae0aa457-0240-42d2-80f5-d20752462b48",
   "metadata": {},
   "outputs": [],
   "source": [
    "bac['Decision'] = bac['Decision'].replace(['Ajourné', 'Abscent', 'Examen annulé à cause du Téléphone', 'Examen annulé à cause du comportement'], 'Ajourné')\n"
   ]
  },
  {
   "cell_type": "code",
   "execution_count": 51,
   "id": "099fbee4",
   "metadata": {},
   "outputs": [],
   "source": [
    "from sklearn.model_selection import train_test_split\n",
    "\n",
    "train_data, test_data = train_test_split(bac, test_size=0.2, random_state=42)"
   ]
  },
  {
   "cell_type": "code",
   "execution_count": null,
   "id": "96762d08-54a4-4dde-991f-225a3e128457",
   "metadata": {},
   "outputs": [],
   "source": []
  },
  {
   "cell_type": "code",
   "execution_count": 53,
   "id": "bbfa0459",
   "metadata": {},
   "outputs": [
    {
     "data": {
      "text/html": [
       "<div>\n",
       "<style scoped>\n",
       "    .dataframe tbody tr th:only-of-type {\n",
       "        vertical-align: middle;\n",
       "    }\n",
       "\n",
       "    .dataframe tbody tr th {\n",
       "        vertical-align: top;\n",
       "    }\n",
       "\n",
       "    .dataframe thead th {\n",
       "        text-align: right;\n",
       "    }\n",
       "</style>\n",
       "<table border=\"1\" class=\"dataframe\">\n",
       "  <thead>\n",
       "    <tr style=\"text-align: right;\">\n",
       "      <th></th>\n",
       "      <th>Nom</th>\n",
       "      <th>Serie,x</th>\n",
       "      <th>GroupeAnonymat</th>\n",
       "      <th>LieuNaissance</th>\n",
       "      <th>Centre</th>\n",
       "      <th>Etablissement</th>\n",
       "      <th>moyeneGeneral</th>\n",
       "      <th>Decision</th>\n",
       "      <th>Note1</th>\n",
       "      <th>Note2</th>\n",
       "      <th>...</th>\n",
       "      <th>Note7</th>\n",
       "      <th>Note8</th>\n",
       "      <th>Willaya</th>\n",
       "      <th>moughataa</th>\n",
       "      <th>DateNaissance</th>\n",
       "      <th>ID</th>\n",
       "      <th>Today2021</th>\n",
       "      <th>Age</th>\n",
       "      <th>prenom</th>\n",
       "      <th>sexe</th>\n",
       "    </tr>\n",
       "  </thead>\n",
       "  <tbody>\n",
       "    <tr>\n",
       "      <th>20967</th>\n",
       "      <td>Walad Haboub Nakh</td>\n",
       "      <td>SN</td>\n",
       "      <td>SN10</td>\n",
       "      <td>Las Palmas</td>\n",
       "      <td>College Teyarett 1</td>\n",
       "      <td>Ghabess Teyaret</td>\n",
       "      <td>3.539062</td>\n",
       "      <td>Ajourné</td>\n",
       "      <td>1.75</td>\n",
       "      <td>1.250</td>\n",
       "      <td>...</td>\n",
       "      <td>1.75</td>\n",
       "      <td>17.0</td>\n",
       "      <td>Nouakchott 1 (Nord)</td>\n",
       "      <td>TEYARETT</td>\n",
       "      <td>2001-10-24</td>\n",
       "      <td>ID_22987</td>\n",
       "      <td>2021-11-25</td>\n",
       "      <td>20.0</td>\n",
       "      <td>Walad</td>\n",
       "      <td>F</td>\n",
       "    </tr>\n",
       "    <tr>\n",
       "      <th>10432</th>\n",
       "      <td>Saidou Abou Ba</td>\n",
       "      <td>SN</td>\n",
       "      <td>SN11</td>\n",
       "      <td>Rosso</td>\n",
       "      <td>Ecole Satara Rosso</td>\n",
       "      <td>Lycée Rosso</td>\n",
       "      <td>5.796875</td>\n",
       "      <td>Ajourné</td>\n",
       "      <td>5.25</td>\n",
       "      <td>4.750</td>\n",
       "      <td>...</td>\n",
       "      <td>1.00</td>\n",
       "      <td>16.0</td>\n",
       "      <td>Trarza</td>\n",
       "      <td>ROSSO</td>\n",
       "      <td>2000-01-17</td>\n",
       "      <td>ID_12169</td>\n",
       "      <td>2021-11-25</td>\n",
       "      <td>21.0</td>\n",
       "      <td>Saidou</td>\n",
       "      <td>M</td>\n",
       "    </tr>\n",
       "    <tr>\n",
       "      <th>20464</th>\n",
       "      <td>Djeinaba Malick Ba</td>\n",
       "      <td>SN</td>\n",
       "      <td>SN07</td>\n",
       "      <td>Zoueirat</td>\n",
       "      <td>Lycée Sebkha 1</td>\n",
       "      <td>EL AWLAMA SBK</td>\n",
       "      <td>8.453125</td>\n",
       "      <td>Sessionnaire</td>\n",
       "      <td>7.50</td>\n",
       "      <td>8.500</td>\n",
       "      <td>...</td>\n",
       "      <td>6.00</td>\n",
       "      <td>18.0</td>\n",
       "      <td>Nouakchott 2 (Ouest)</td>\n",
       "      <td>SEBKHA</td>\n",
       "      <td>2002-04-21</td>\n",
       "      <td>ID_29121</td>\n",
       "      <td>2021-11-25</td>\n",
       "      <td>19.0</td>\n",
       "      <td>Djeinaba</td>\n",
       "      <td>F</td>\n",
       "    </tr>\n",
       "    <tr>\n",
       "      <th>16758</th>\n",
       "      <td>Ahmed Babe Ahmedou Abeidallah</td>\n",
       "      <td>SN</td>\n",
       "      <td>SN09</td>\n",
       "      <td>Toujounine</td>\n",
       "      <td>Lycée Jedida</td>\n",
       "      <td>CARAVANE DU SAVAOIR Ksar</td>\n",
       "      <td>7.296875</td>\n",
       "      <td>Ajourné</td>\n",
       "      <td>9.75</td>\n",
       "      <td>7.250</td>\n",
       "      <td>...</td>\n",
       "      <td>5.25</td>\n",
       "      <td>18.5</td>\n",
       "      <td>Nouakchott 2 (Ouest)</td>\n",
       "      <td>KSAR</td>\n",
       "      <td>2003-07-09</td>\n",
       "      <td>ID_26568</td>\n",
       "      <td>2021-11-25</td>\n",
       "      <td>18.0</td>\n",
       "      <td>Ahmed</td>\n",
       "      <td>M</td>\n",
       "    </tr>\n",
       "    <tr>\n",
       "      <th>2718</th>\n",
       "      <td>Fatma Siyid Siyid</td>\n",
       "      <td>LM</td>\n",
       "      <td>LM4</td>\n",
       "      <td>Beileguet Litam</td>\n",
       "      <td>Ecole Sidi Abdoullah-Arafat</td>\n",
       "      <td>Lycée Arafat 1</td>\n",
       "      <td>5.705645</td>\n",
       "      <td>Ajourné</td>\n",
       "      <td>3.00</td>\n",
       "      <td>8.375</td>\n",
       "      <td>...</td>\n",
       "      <td>6.75</td>\n",
       "      <td>-1.0</td>\n",
       "      <td>Nouakchott 3 (Sud)</td>\n",
       "      <td>ARAFAT</td>\n",
       "      <td>1999-01-06</td>\n",
       "      <td>ID_36182</td>\n",
       "      <td>2021-11-25</td>\n",
       "      <td>22.0</td>\n",
       "      <td>Fatma</td>\n",
       "      <td>F</td>\n",
       "    </tr>\n",
       "  </tbody>\n",
       "</table>\n",
       "<p>5 rows × 24 columns</p>\n",
       "</div>"
      ],
      "text/plain": [
       "                                 Nom Serie,x GroupeAnonymat    LieuNaissance  \\\n",
       "20967              Walad Haboub Nakh      SN           SN10       Las Palmas   \n",
       "10432                 Saidou Abou Ba      SN           SN11            Rosso   \n",
       "20464             Djeinaba Malick Ba      SN           SN07         Zoueirat   \n",
       "16758  Ahmed Babe Ahmedou Abeidallah      SN           SN09       Toujounine   \n",
       "2718               Fatma Siyid Siyid      LM            LM4  Beileguet Litam   \n",
       "\n",
       "                            Centre             Etablissement  moyeneGeneral  \\\n",
       "20967           College Teyarett 1           Ghabess Teyaret       3.539062   \n",
       "10432           Ecole Satara Rosso               Lycée Rosso       5.796875   \n",
       "20464               Lycée Sebkha 1             EL AWLAMA SBK       8.453125   \n",
       "16758                 Lycée Jedida  CARAVANE DU SAVAOIR Ksar       7.296875   \n",
       "2718   Ecole Sidi Abdoullah-Arafat            Lycée Arafat 1       5.705645   \n",
       "\n",
       "           Decision  Note1  Note2  ...  Note7  Note8               Willaya  \\\n",
       "20967       Ajourné   1.75  1.250  ...   1.75   17.0   Nouakchott 1 (Nord)   \n",
       "10432       Ajourné   5.25  4.750  ...   1.00   16.0                Trarza   \n",
       "20464  Sessionnaire   7.50  8.500  ...   6.00   18.0  Nouakchott 2 (Ouest)   \n",
       "16758       Ajourné   9.75  7.250  ...   5.25   18.5  Nouakchott 2 (Ouest)   \n",
       "2718        Ajourné   3.00  8.375  ...   6.75   -1.0    Nouakchott 3 (Sud)   \n",
       "\n",
       "       moughataa  DateNaissance        ID   Today2021   Age    prenom sexe  \n",
       "20967   TEYARETT     2001-10-24  ID_22987  2021-11-25  20.0     Walad    F  \n",
       "10432      ROSSO     2000-01-17  ID_12169  2021-11-25  21.0    Saidou    M  \n",
       "20464     SEBKHA     2002-04-21  ID_29121  2021-11-25  19.0  Djeinaba    F  \n",
       "16758       KSAR     2003-07-09  ID_26568  2021-11-25  18.0     Ahmed    M  \n",
       "2718      ARAFAT     1999-01-06  ID_36182  2021-11-25  22.0     Fatma    F  \n",
       "\n",
       "[5 rows x 24 columns]"
      ]
     },
     "execution_count": 53,
     "metadata": {},
     "output_type": "execute_result"
    }
   ],
   "source": [
    "train_data.head()"
   ]
  },
  {
   "cell_type": "code",
   "execution_count": 54,
   "id": "e51a4349-9b97-40c9-9d5e-f22f26eda190",
   "metadata": {},
   "outputs": [
    {
     "data": {
      "text/plain": [
       "Ajourné         16325\n",
       "Admis            1596\n",
       "Sessionnaire     1194\n",
       "Name: Decision, dtype: int64"
      ]
     },
     "execution_count": 54,
     "metadata": {},
     "output_type": "execute_result"
    }
   ],
   "source": [
    "train_data['Decision'].value_counts()"
   ]
  },
  {
   "cell_type": "code",
   "execution_count": 55,
   "id": "feb102f8",
   "metadata": {},
   "outputs": [],
   "source": [
    "# Split the data into features (X) and target (y)\n",
    "X = train_data.drop(['Decision','moyeneGeneral', 'Note1','DateNaissance',\n",
    "       'Note2', 'Note3', 'Note4', 'Note5', 'Note6', 'Note7', 'Note8'], axis=1)\n",
    "y = pd.DataFrame({'Decision':train_data['Decision']})\n"
   ]
  },
  {
   "cell_type": "code",
   "execution_count": 56,
   "id": "6fb10d55",
   "metadata": {},
   "outputs": [],
   "source": [
    "X = X.set_index('ID')\n",
    "y = y.set_index(pd.RangeIndex(start=0, stop=len(y)))"
   ]
  },
  {
   "cell_type": "code",
   "execution_count": 57,
   "id": "b2dcad65",
   "metadata": {},
   "outputs": [
    {
     "data": {
      "text/html": [
       "<div>\n",
       "<style scoped>\n",
       "    .dataframe tbody tr th:only-of-type {\n",
       "        vertical-align: middle;\n",
       "    }\n",
       "\n",
       "    .dataframe tbody tr th {\n",
       "        vertical-align: top;\n",
       "    }\n",
       "\n",
       "    .dataframe thead th {\n",
       "        text-align: right;\n",
       "    }\n",
       "</style>\n",
       "<table border=\"1\" class=\"dataframe\">\n",
       "  <thead>\n",
       "    <tr style=\"text-align: right;\">\n",
       "      <th></th>\n",
       "      <th>Nom</th>\n",
       "      <th>Serie,x</th>\n",
       "      <th>GroupeAnonymat</th>\n",
       "      <th>LieuNaissance</th>\n",
       "      <th>Centre</th>\n",
       "      <th>Etablissement</th>\n",
       "      <th>Willaya</th>\n",
       "      <th>moughataa</th>\n",
       "      <th>Today2021</th>\n",
       "      <th>Age</th>\n",
       "      <th>prenom</th>\n",
       "      <th>sexe</th>\n",
       "    </tr>\n",
       "    <tr>\n",
       "      <th>ID</th>\n",
       "      <th></th>\n",
       "      <th></th>\n",
       "      <th></th>\n",
       "      <th></th>\n",
       "      <th></th>\n",
       "      <th></th>\n",
       "      <th></th>\n",
       "      <th></th>\n",
       "      <th></th>\n",
       "      <th></th>\n",
       "      <th></th>\n",
       "      <th></th>\n",
       "    </tr>\n",
       "  </thead>\n",
       "  <tbody>\n",
       "    <tr>\n",
       "      <th>ID_22987</th>\n",
       "      <td>Walad Haboub Nakh</td>\n",
       "      <td>SN</td>\n",
       "      <td>SN10</td>\n",
       "      <td>Las Palmas</td>\n",
       "      <td>College Teyarett 1</td>\n",
       "      <td>Ghabess Teyaret</td>\n",
       "      <td>Nouakchott 1 (Nord)</td>\n",
       "      <td>TEYARETT</td>\n",
       "      <td>2021-11-25</td>\n",
       "      <td>20.0</td>\n",
       "      <td>Walad</td>\n",
       "      <td>F</td>\n",
       "    </tr>\n",
       "    <tr>\n",
       "      <th>ID_12169</th>\n",
       "      <td>Saidou Abou Ba</td>\n",
       "      <td>SN</td>\n",
       "      <td>SN11</td>\n",
       "      <td>Rosso</td>\n",
       "      <td>Ecole Satara Rosso</td>\n",
       "      <td>Lycée Rosso</td>\n",
       "      <td>Trarza</td>\n",
       "      <td>ROSSO</td>\n",
       "      <td>2021-11-25</td>\n",
       "      <td>21.0</td>\n",
       "      <td>Saidou</td>\n",
       "      <td>M</td>\n",
       "    </tr>\n",
       "    <tr>\n",
       "      <th>ID_29121</th>\n",
       "      <td>Djeinaba Malick Ba</td>\n",
       "      <td>SN</td>\n",
       "      <td>SN07</td>\n",
       "      <td>Zoueirat</td>\n",
       "      <td>Lycée Sebkha 1</td>\n",
       "      <td>EL AWLAMA SBK</td>\n",
       "      <td>Nouakchott 2 (Ouest)</td>\n",
       "      <td>SEBKHA</td>\n",
       "      <td>2021-11-25</td>\n",
       "      <td>19.0</td>\n",
       "      <td>Djeinaba</td>\n",
       "      <td>F</td>\n",
       "    </tr>\n",
       "    <tr>\n",
       "      <th>ID_26568</th>\n",
       "      <td>Ahmed Babe Ahmedou Abeidallah</td>\n",
       "      <td>SN</td>\n",
       "      <td>SN09</td>\n",
       "      <td>Toujounine</td>\n",
       "      <td>Lycée Jedida</td>\n",
       "      <td>CARAVANE DU SAVAOIR Ksar</td>\n",
       "      <td>Nouakchott 2 (Ouest)</td>\n",
       "      <td>KSAR</td>\n",
       "      <td>2021-11-25</td>\n",
       "      <td>18.0</td>\n",
       "      <td>Ahmed</td>\n",
       "      <td>M</td>\n",
       "    </tr>\n",
       "    <tr>\n",
       "      <th>ID_36182</th>\n",
       "      <td>Fatma Siyid Siyid</td>\n",
       "      <td>LM</td>\n",
       "      <td>LM4</td>\n",
       "      <td>Beileguet Litam</td>\n",
       "      <td>Ecole Sidi Abdoullah-Arafat</td>\n",
       "      <td>Lycée Arafat 1</td>\n",
       "      <td>Nouakchott 3 (Sud)</td>\n",
       "      <td>ARAFAT</td>\n",
       "      <td>2021-11-25</td>\n",
       "      <td>22.0</td>\n",
       "      <td>Fatma</td>\n",
       "      <td>F</td>\n",
       "    </tr>\n",
       "  </tbody>\n",
       "</table>\n",
       "</div>"
      ],
      "text/plain": [
       "                                    Nom Serie,x GroupeAnonymat  \\\n",
       "ID                                                               \n",
       "ID_22987              Walad Haboub Nakh      SN           SN10   \n",
       "ID_12169                 Saidou Abou Ba      SN           SN11   \n",
       "ID_29121             Djeinaba Malick Ba      SN           SN07   \n",
       "ID_26568  Ahmed Babe Ahmedou Abeidallah      SN           SN09   \n",
       "ID_36182              Fatma Siyid Siyid      LM            LM4   \n",
       "\n",
       "            LieuNaissance                       Centre  \\\n",
       "ID                                                       \n",
       "ID_22987       Las Palmas           College Teyarett 1   \n",
       "ID_12169            Rosso           Ecole Satara Rosso   \n",
       "ID_29121         Zoueirat               Lycée Sebkha 1   \n",
       "ID_26568       Toujounine                 Lycée Jedida   \n",
       "ID_36182  Beileguet Litam  Ecole Sidi Abdoullah-Arafat   \n",
       "\n",
       "                     Etablissement               Willaya moughataa  \\\n",
       "ID                                                                   \n",
       "ID_22987           Ghabess Teyaret   Nouakchott 1 (Nord)  TEYARETT   \n",
       "ID_12169               Lycée Rosso                Trarza     ROSSO   \n",
       "ID_29121             EL AWLAMA SBK  Nouakchott 2 (Ouest)    SEBKHA   \n",
       "ID_26568  CARAVANE DU SAVAOIR Ksar  Nouakchott 2 (Ouest)      KSAR   \n",
       "ID_36182            Lycée Arafat 1    Nouakchott 3 (Sud)    ARAFAT   \n",
       "\n",
       "           Today2021   Age    prenom sexe  \n",
       "ID                                         \n",
       "ID_22987  2021-11-25  20.0     Walad    F  \n",
       "ID_12169  2021-11-25  21.0    Saidou    M  \n",
       "ID_29121  2021-11-25  19.0  Djeinaba    F  \n",
       "ID_26568  2021-11-25  18.0     Ahmed    M  \n",
       "ID_36182  2021-11-25  22.0     Fatma    F  "
      ]
     },
     "execution_count": 57,
     "metadata": {},
     "output_type": "execute_result"
    }
   ],
   "source": [
    "X.head()"
   ]
  },
  {
   "cell_type": "code",
   "execution_count": 58,
   "id": "9d39082b",
   "metadata": {},
   "outputs": [
    {
     "data": {
      "text/plain": [
       "(19115, 12)"
      ]
     },
     "execution_count": 58,
     "metadata": {},
     "output_type": "execute_result"
    }
   ],
   "source": [
    "X.shape"
   ]
  },
  {
   "cell_type": "code",
   "execution_count": 59,
   "id": "c09a8a2f",
   "metadata": {},
   "outputs": [],
   "source": [
    "# Split dataset into training set and test set\n",
    "X_train = X.iloc[0:12930,:] \n",
    "X_test = X.iloc[12930:,:]\n",
    "y_train = y.iloc[0:12930,:]\n",
    "y_test =y.iloc[12930:,:]"
   ]
  },
  {
   "cell_type": "code",
   "execution_count": 60,
   "id": "6afb9877",
   "metadata": {},
   "outputs": [],
   "source": [
    "X_train.reset_index(inplace=True)\n",
    "X_test.reset_index(inplace=True)\n",
    "y_train.reset_index(drop=True,inplace=True)\n",
    "y_test.reset_index(drop=True,inplace=True)"
   ]
  },
  {
   "cell_type": "code",
   "execution_count": 61,
   "id": "88b74473",
   "metadata": {},
   "outputs": [],
   "source": [
    "# Sélection des caractéristiques (features) et la variable cible (target)\n",
    "categorical_features = ['Etablissement', 'Serie,x', 'Centre', 'Willaya', 'moughataa']  \n",
    "numeric_features = ['Age'] \n",
    "target = 'Decision' "
   ]
  },
  {
   "cell_type": "code",
   "execution_count": 62,
   "id": "5315d252",
   "metadata": {},
   "outputs": [],
   "source": [
    "# Concaténation des ensembles d'entraînement et de test\n",
    "all_data = pd.concat([X_train[categorical_features + numeric_features], X_test[categorical_features + numeric_features]], axis=0)\n",
    "\n",
    "# Prétraitement des variables catégorielles\n",
    "cat_transformer = OneHotEncoder(handle_unknown='ignore')\n",
    "cat_transformer.fit(all_data[categorical_features])\n",
    "\n",
    "# Prétraitement de la variable numérique\n",
    "num_transformer = StandardScaler()\n",
    "num_transformer.fit(all_data[numeric_features])\n",
    "\n",
    "# Création du transformateur de colonnes\n",
    "preprocessor = ColumnTransformer(\n",
    "    transformers=[\n",
    "        ('cat', cat_transformer, categorical_features),\n",
    "        ('num', num_transformer, numeric_features)\n",
    "    ])\n",
    "\n",
    "# Encodage des variables catégorielles de l'ensemble d'entraînement\n",
    "X_train_encoded = preprocessor.fit_transform(X_train[categorical_features + numeric_features])\n",
    "X_test_encoded = preprocessor.transform(X_test[categorical_features + numeric_features])\n",
    "y_train = y_train[target]\n",
    "y_test = y_test[target]\n",
    "\n",
    "\n"
   ]
  },
  {
   "cell_type": "code",
   "execution_count": 22,
   "id": "91162264-9814-4882-8095-99dee04bacc1",
   "metadata": {},
   "outputs": [
    {
     "name": "stdout",
     "output_type": "stream",
     "text": [
      "(19115, 6)\n"
     ]
    }
   ],
   "source": [
    "\n",
    "\n",
    "# Supprimer les dernières 136 lignes\n",
    "all_data1 = all_data.iloc[:-136]\n",
    "\n",
    "# Vérifier si les lignes ont été supprimées\n",
    "print(all_data.shape)\n"
   ]
  },
  {
   "cell_type": "code",
   "execution_count": 84,
   "id": "53ff53bb-2863-45d6-a6e0-4fde2209f085",
   "metadata": {},
   "outputs": [
    {
     "data": {
      "text/html": [
       "<div>\n",
       "<style scoped>\n",
       "    .dataframe tbody tr th:only-of-type {\n",
       "        vertical-align: middle;\n",
       "    }\n",
       "\n",
       "    .dataframe tbody tr th {\n",
       "        vertical-align: top;\n",
       "    }\n",
       "\n",
       "    .dataframe thead th {\n",
       "        text-align: right;\n",
       "    }\n",
       "</style>\n",
       "<table border=\"1\" class=\"dataframe\">\n",
       "  <thead>\n",
       "    <tr style=\"text-align: right;\">\n",
       "      <th></th>\n",
       "      <th>Etablissement</th>\n",
       "      <th>Serie,x</th>\n",
       "      <th>Centre</th>\n",
       "      <th>Willaya</th>\n",
       "      <th>moughataa</th>\n",
       "      <th>Age</th>\n",
       "    </tr>\n",
       "  </thead>\n",
       "  <tbody>\n",
       "    <tr>\n",
       "      <th>0</th>\n",
       "      <td>Ghabess Teyaret</td>\n",
       "      <td>SN</td>\n",
       "      <td>College Teyarett 1</td>\n",
       "      <td>Nouakchott 1 (Nord)</td>\n",
       "      <td>TEYARETT</td>\n",
       "      <td>20.0</td>\n",
       "    </tr>\n",
       "    <tr>\n",
       "      <th>1</th>\n",
       "      <td>Lycée Rosso</td>\n",
       "      <td>SN</td>\n",
       "      <td>Ecole Satara Rosso</td>\n",
       "      <td>Trarza</td>\n",
       "      <td>ROSSO</td>\n",
       "      <td>21.0</td>\n",
       "    </tr>\n",
       "    <tr>\n",
       "      <th>2</th>\n",
       "      <td>EL AWLAMA SBK</td>\n",
       "      <td>SN</td>\n",
       "      <td>Lycée Sebkha 1</td>\n",
       "      <td>Nouakchott 2 (Ouest)</td>\n",
       "      <td>SEBKHA</td>\n",
       "      <td>19.0</td>\n",
       "    </tr>\n",
       "    <tr>\n",
       "      <th>3</th>\n",
       "      <td>CARAVANE DU SAVAOIR Ksar</td>\n",
       "      <td>SN</td>\n",
       "      <td>Lycée Jedida</td>\n",
       "      <td>Nouakchott 2 (Ouest)</td>\n",
       "      <td>KSAR</td>\n",
       "      <td>18.0</td>\n",
       "    </tr>\n",
       "    <tr>\n",
       "      <th>4</th>\n",
       "      <td>Lycée Arafat 1</td>\n",
       "      <td>LM</td>\n",
       "      <td>Ecole Sidi Abdoullah-Arafat</td>\n",
       "      <td>Nouakchott 3 (Sud)</td>\n",
       "      <td>ARAFAT</td>\n",
       "      <td>22.0</td>\n",
       "    </tr>\n",
       "  </tbody>\n",
       "</table>\n",
       "</div>"
      ],
      "text/plain": [
       "              Etablissement Serie,x                       Centre  \\\n",
       "0           Ghabess Teyaret      SN           College Teyarett 1   \n",
       "1               Lycée Rosso      SN           Ecole Satara Rosso   \n",
       "2             EL AWLAMA SBK      SN               Lycée Sebkha 1   \n",
       "3  CARAVANE DU SAVAOIR Ksar      SN                 Lycée Jedida   \n",
       "4            Lycée Arafat 1      LM  Ecole Sidi Abdoullah-Arafat   \n",
       "\n",
       "                Willaya moughataa   Age  \n",
       "0   Nouakchott 1 (Nord)  TEYARETT  20.0  \n",
       "1                Trarza     ROSSO  21.0  \n",
       "2  Nouakchott 2 (Ouest)    SEBKHA  19.0  \n",
       "3  Nouakchott 2 (Ouest)      KSAR  18.0  \n",
       "4    Nouakchott 3 (Sud)    ARAFAT  22.0  "
      ]
     },
     "execution_count": 84,
     "metadata": {},
     "output_type": "execute_result"
    }
   ],
   "source": [
    "df3=all_data.head()\n",
    "df3.head()"
   ]
  },
  {
   "cell_type": "code",
   "execution_count": 85,
   "id": "ee7ab198-58e6-4ac5-9e57-c407327f93e1",
   "metadata": {},
   "outputs": [],
   "source": [
    "# Sauvegarder le DataFrame dans un fichier CSV\n",
    "df3.to_csv('test_data.csv', index=False)"
   ]
  },
  {
   "cell_type": "code",
   "execution_count": 17,
   "id": "15cdb418",
   "metadata": {},
   "outputs": [
    {
     "name": "stdout",
     "output_type": "stream",
     "text": [
      "Requirement already satisfied: imbalanced-learn in c:\\users\\toshiba\\anaconda3\\lib\\site-packages (0.12.3)Note: you may need to restart the kernel to use updated packages.\n",
      "\n",
      "Requirement already satisfied: numpy>=1.17.3 in c:\\users\\toshiba\\appdata\\roaming\\python\\python39\\site-packages (from imbalanced-learn) (1.23.5)\n",
      "Requirement already satisfied: scipy>=1.5.0 in c:\\users\\toshiba\\appdata\\roaming\\python\\python39\\site-packages (from imbalanced-learn) (1.10.1)\n",
      "Requirement already satisfied: scikit-learn>=1.0.2 in c:\\users\\toshiba\\anaconda3\\lib\\site-packages (from imbalanced-learn) (1.5.1)\n",
      "Requirement already satisfied: joblib>=1.1.1 in c:\\users\\toshiba\\anaconda3\\lib\\site-packages (from imbalanced-learn) (1.4.2)\n",
      "Requirement already satisfied: threadpoolctl>=2.0.0 in c:\\users\\toshiba\\anaconda3\\lib\\site-packages (from imbalanced-learn) (3.5.0)\n"
     ]
    },
    {
     "name": "stderr",
     "output_type": "stream",
     "text": [
      "WARNING: Ignoring invalid distribution -illow (c:\\users\\toshiba\\anaconda3\\lib\\site-packages)\n",
      "WARNING: Ignoring invalid distribution -illow (c:\\users\\toshiba\\anaconda3\\lib\\site-packages)\n",
      "WARNING: Ignoring invalid distribution -illow (c:\\users\\toshiba\\anaconda3\\lib\\site-packages)\n"
     ]
    }
   ],
   "source": [
    "pip install imbalanced-learn\n"
   ]
  },
  {
   "cell_type": "code",
   "execution_count": 63,
   "id": "68a27efa",
   "metadata": {},
   "outputs": [],
   "source": [
    "from imblearn.over_sampling import SMOTE\n",
    "from sklearn.neighbors import NearestNeighbors\n",
    "\n",
    "# Créez une instance du modèle de voisinage\n",
    "nn = NearestNeighbors(n_neighbors=3)\n",
    "\n",
    "# Ajustez le modèle de voisinage sur vos données\n",
    "nn.fit(X_train_encoded)\n",
    "\n",
    "# Créez une instance de la classe SMOTE\n",
    "smote = SMOTE(sampling_strategy='auto', random_state=42, k_neighbors=nn)\n",
    "\n",
    "# Rééchantillonnez votre ensemble de données à l'aide de SMOTE\n",
    "X_resampled, y_resampled = smote.fit_resample(X_train_encoded, y_train)\n"
   ]
  },
  {
   "cell_type": "code",
   "execution_count": 22,
   "id": "2f117e50",
   "metadata": {},
   "outputs": [],
   "source": [
    "mlflow.sklearn.autolog(disable=True)"
   ]
  },
  {
   "cell_type": "code",
   "execution_count": 23,
   "id": "f7c301fd",
   "metadata": {},
   "outputs": [
    {
     "name": "stderr",
     "output_type": "stream",
     "text": [
      "2024/11/27 23:19:50 WARNING mlflow.models.model: Model logged without a signature and input example. Please set `input_example` parameter when logging the model to auto infer the model signature.\n"
     ]
    },
    {
     "name": "stdout",
     "output_type": "stream",
     "text": [
      "🏃 View run LogisticRegression at: https://dagshub.com/Abdellahi60/mlops-bootcamp.mlflow/#/experiments/0/runs/21ec283e2bda4439b65688008cb89f7c\n",
      "🧪 View experiment at: https://dagshub.com/Abdellahi60/mlops-bootcamp.mlflow/#/experiments/0\n"
     ]
    }
   ],
   "source": [
    "with mlflow.start_run(run_name='LogisticRegression'):\n",
    "    mlflow.log_param(\"data_url\",data_url)\n",
    "    mlflow.log_param(\"input_rows\",bac.shape[0])\n",
    "    mlflow.log_param(\"input_cols\",bac.shape[1])\n",
    "    #model fitting and training\n",
    "    lr=LogisticRegression(max_iter=1000)\n",
    "    mlflow.set_tag(key= \"model\",value=\"LogisticRegression\")\n",
    "    params = lr.get_params()\n",
    "    mlflow.log_params(params)\n",
    "    lr.fit(X_resampled,y_resampled)\n",
    "    train_features_name = f'{X_resampled=}'.split('=')[0]\n",
    "    train_label_name = f'{y_resampled=}'.split('=')[0]\n",
    "    mlflow.set_tag(key=\"train_features_name\",value= train_features_name)\n",
    "    mlflow.set_tag(key= \"train_label_name\",value=train_label_name)\n",
    "    predicted=lr.predict(X_test_encoded)\n",
    "    precision,recall,fscore,support=score(y_test,predicted,average='macro')\n",
    "    mlflow.log_metric(\"Precision_test\",precision)\n",
    "    mlflow.log_metric(\"Recall_test\",recall)\n",
    "    mlflow.log_metric(\"F1_score_test\",fscore)\n",
    "    mlflow.sklearn.log_model(lr,artifact_path=\"ML_models\")\n"
   ]
  },
  {
   "cell_type": "code",
   "execution_count": 24,
   "id": "b29c8a6b",
   "metadata": {},
   "outputs": [],
   "source": [
    "lr=LogisticRegression(max_iter=1000)\n",
    "lr.fit(X_resampled,y_resampled)\n",
    "predicted=lr.predict(X_test_encoded)"
   ]
  },
  {
   "cell_type": "markdown",
   "id": "6fab7614",
   "metadata": {},
   "source": [
    "##  RandomForestClassifier"
   ]
  },
  {
   "cell_type": "code",
   "execution_count": 64,
   "id": "df4a1227",
   "metadata": {},
   "outputs": [],
   "source": [
    "from sklearn.preprocessing import LabelEncoder\n",
    "\n",
    "# Créez une instance de LabelEncoder\n",
    "label_encoder = LabelEncoder()\n",
    "\n",
    "# Appliquez le LabelEncoder aux classes de la variable cible\n",
    "y_train_encoded = label_encoder.fit_transform(y_train)\n",
    "y_test_encoded = label_encoder.transform(y_test)\n"
   ]
  },
  {
   "cell_type": "markdown",
   "id": "9716e534",
   "metadata": {},
   "source": [
    "#### XGBOOST Model"
   ]
  },
  {
   "cell_type": "code",
   "execution_count": 79,
   "id": "69cfd282",
   "metadata": {},
   "outputs": [
    {
     "name": "stderr",
     "output_type": "stream",
     "text": [
      "C:\\Users\\TOSHIBA\\anaconda3\\lib\\site-packages\\xgboost\\core.py:160: UserWarning: [03:02:35] WARNING: C:\\buildkite-agent\\builds\\buildkite-windows-cpu-autoscaling-group-i-0b3782d1791676daf-1\\xgboost\\xgboost-ci-windows\\src\\learner.cc:742: \n",
      "Parameters: { \"gamma\" } are not used.\n",
      "\n",
      "  warnings.warn(smsg, UserWarning)\n",
      "C:\\Users\\TOSHIBA\\anaconda3\\lib\\site-packages\\xgboost\\core.py:160: UserWarning: [03:02:39] WARNING: C:\\buildkite-agent\\builds\\buildkite-windows-cpu-autoscaling-group-i-0b3782d1791676daf-1\\xgboost\\xgboost-ci-windows\\src\\c_api\\c_api.cc:1240: Saving into deprecated binary model format, please consider using `json` or `ubj`. Model format will default to JSON in XGBoost 2.2 if not specified.\n",
      "  warnings.warn(smsg, UserWarning)\n",
      "2024/12/05 03:03:28 WARNING mlflow.models.model: Model logged without a signature and input example. Please set `input_example` parameter when logging the model to auto infer the model signature.\n"
     ]
    },
    {
     "name": "stdout",
     "output_type": "stream",
     "text": [
      "🏃 View run XGBoost at: https://dagshub.com/Abdellahi60/mlops-bootcamp.mlflow/#/experiments/0/runs/86778d570cf54359818dee0557c2a489\n",
      "🧪 View experiment at: https://dagshub.com/Abdellahi60/mlops-bootcamp.mlflow/#/experiments/0\n"
     ]
    }
   ],
   "source": [
    "import xgboost as xgb\n",
    "from xgboost import XGBClassifier\n",
    "import mlflow\n",
    "import mlflow.xgboost\n",
    "from sklearn.metrics import f1_score, fbeta_score\n",
    "\n",
    "# Create an XGBClassifier with your desired hyperparameters\n",
    "xgb_model = XGBClassifier(\n",
    "    n_estimators=100,\n",
    "    learning_rate=0.2,\n",
    "    gamma=0.3,\n",
    "    booster='gblinear'\n",
    ")\n",
    "\n",
    "# Start a new MLflow run\n",
    "with mlflow.start_run(run_name='XGBoost'):\n",
    "    # Train the model\n",
    "    xgb_model.fit(X_train_encoded, y_train_encoded)\n",
    "\n",
    "    # Make predictions\n",
    "    y_pred = xgb_model.predict(X_test_encoded)\n",
    "\n",
    "    # Calculate F1-score\n",
    "    f1 = f1_score(y_test_encoded, y_pred, average='micro')\n",
    "\n",
    "    # Calculate F2-score\n",
    "    f2 = fbeta_score(y_test_encoded, y_pred, beta=2, average='micro')\n",
    "\n",
    "    # Log XGBoost parameters\n",
    "    mlflow.log_params(xgb_model.get_params())\n",
    "\n",
    "    # Log F1-score as a metric\n",
    "    mlflow.log_metric(\"F1_score_test\", f1)\n",
    "\n",
    "    # Log F2-score as a metric\n",
    "    mlflow.log_metric(\"F2-score\", f2)\n",
    "    \n",
    "    # Log the XGBoost model\n",
    "    mlflow.xgboost.log_model(xgb_model,artifact_path=\"ML_models\")\n"
   ]
  },
  {
   "cell_type": "code",
   "execution_count": null,
   "id": "04a102e7",
   "metadata": {},
   "outputs": [],
   "source": [
    "# Vous pouvez enregistrer les données d'entraînement et de test si nécessaire\n",
    "#train_data.to_csv(\"train_set.csv\", index=False)\n",
    "#test_data.to_csv(\"test_set.csv\", index=False)\n"
   ]
  },
  {
   "cell_type": "code",
   "execution_count": null,
   "id": "babc70f7",
   "metadata": {},
   "outputs": [],
   "source": []
  },
  {
   "cell_type": "code",
   "execution_count": 81,
   "id": "23c2c42a",
   "metadata": {},
   "outputs": [
    {
     "name": "stdout",
     "output_type": "stream",
     "text": [
      "86778d570cf54359818dee0557c2a489\n"
     ]
    }
   ],
   "source": [
    "#Reading Pandas Dataframe from mlflow\n",
    "all_experiments = [exp.experiment_id for exp in mlflow.search_experiments()]\n",
    "df_mlflow = mlflow.search_runs(experiment_ids=all_experiments,filter_string=\"metrics.F1_score_test <1\")\n",
    "run_id = df_mlflow.loc[df_mlflow['metrics.F1_score_test'].idxmax()]['run_id']\n",
    "print(run_id)"
   ]
  },
  {
   "cell_type": "code",
   "execution_count": 32,
   "id": "e70248dc",
   "metadata": {},
   "outputs": [
    {
     "data": {
      "text/html": [
       "<div>\n",
       "<style scoped>\n",
       "    .dataframe tbody tr th:only-of-type {\n",
       "        vertical-align: middle;\n",
       "    }\n",
       "\n",
       "    .dataframe tbody tr th {\n",
       "        vertical-align: top;\n",
       "    }\n",
       "\n",
       "    .dataframe thead th {\n",
       "        text-align: right;\n",
       "    }\n",
       "</style>\n",
       "<table border=\"1\" class=\"dataframe\">\n",
       "  <thead>\n",
       "    <tr style=\"text-align: right;\">\n",
       "      <th></th>\n",
       "      <th>run_id</th>\n",
       "      <th>experiment_id</th>\n",
       "      <th>status</th>\n",
       "      <th>artifact_uri</th>\n",
       "      <th>start_time</th>\n",
       "      <th>end_time</th>\n",
       "      <th>metrics.F2-score</th>\n",
       "      <th>metrics.F1_score_test</th>\n",
       "      <th>metrics.Recall_test</th>\n",
       "      <th>metrics.Precision_test</th>\n",
       "      <th>...</th>\n",
       "      <th>params.l1_ratio</th>\n",
       "      <th>params.solver</th>\n",
       "      <th>tags.mlflow.source.type</th>\n",
       "      <th>tags.mlflow.log-model.history</th>\n",
       "      <th>tags.mlflow.runName</th>\n",
       "      <th>tags.mlflow.user</th>\n",
       "      <th>tags.mlflow.source.name</th>\n",
       "      <th>tags.train_features_name</th>\n",
       "      <th>tags.train_label_name</th>\n",
       "      <th>tags.model</th>\n",
       "    </tr>\n",
       "  </thead>\n",
       "  <tbody>\n",
       "    <tr>\n",
       "      <th>0</th>\n",
       "      <td>3fc9b373ab44498fac7b1bc27020f9f2</td>\n",
       "      <td>0</td>\n",
       "      <td>FINISHED</td>\n",
       "      <td>mlflow-artifacts:/17c91d3dd12c4d9faa80b11479c8...</td>\n",
       "      <td>2024-11-28 18:05:39.619000+00:00</td>\n",
       "      <td>2024-11-28 18:06:24.088000+00:00</td>\n",
       "      <td>0.797251</td>\n",
       "      <td>0.797251</td>\n",
       "      <td>NaN</td>\n",
       "      <td>NaN</td>\n",
       "      <td>...</td>\n",
       "      <td>None</td>\n",
       "      <td>None</td>\n",
       "      <td>LOCAL</td>\n",
       "      <td>[{\"run_id\": \"3fc9b373ab44498fac7b1bc27020f9f2\"...</td>\n",
       "      <td>XGBoost</td>\n",
       "      <td>abdellahi60</td>\n",
       "      <td>C:\\Users\\TOSHIBA\\anaconda3\\lib\\site-packages\\i...</td>\n",
       "      <td>None</td>\n",
       "      <td>None</td>\n",
       "      <td>None</td>\n",
       "    </tr>\n",
       "    <tr>\n",
       "      <th>1</th>\n",
       "      <td>6d2fef937fbe49f0a537876c196579c9</td>\n",
       "      <td>0</td>\n",
       "      <td>FAILED</td>\n",
       "      <td>mlflow-artifacts:/17c91d3dd12c4d9faa80b11479c8...</td>\n",
       "      <td>2024-11-27 23:29:58.249000+00:00</td>\n",
       "      <td>2024-11-28 18:02:00.447000+00:00</td>\n",
       "      <td>NaN</td>\n",
       "      <td>0.229810</td>\n",
       "      <td>0.246312</td>\n",
       "      <td>0.222875</td>\n",
       "      <td>...</td>\n",
       "      <td>None</td>\n",
       "      <td>None</td>\n",
       "      <td>LOCAL</td>\n",
       "      <td>None</td>\n",
       "      <td>RandomForestClassifier</td>\n",
       "      <td>abdellahi60</td>\n",
       "      <td>C:\\Users\\TOSHIBA\\anaconda3\\lib\\site-packages\\i...</td>\n",
       "      <td>X_resampled</td>\n",
       "      <td>y_resampled</td>\n",
       "      <td>RandomForestClassifier</td>\n",
       "    </tr>\n",
       "    <tr>\n",
       "      <th>2</th>\n",
       "      <td>21ec283e2bda4439b65688008cb89f7c</td>\n",
       "      <td>0</td>\n",
       "      <td>FINISHED</td>\n",
       "      <td>mlflow-artifacts:/17c91d3dd12c4d9faa80b11479c8...</td>\n",
       "      <td>2024-11-27 23:15:55.657000+00:00</td>\n",
       "      <td>2024-11-27 23:20:10.560000+00:00</td>\n",
       "      <td>NaN</td>\n",
       "      <td>0.185616</td>\n",
       "      <td>0.316496</td>\n",
       "      <td>0.222966</td>\n",
       "      <td>...</td>\n",
       "      <td>None</td>\n",
       "      <td>lbfgs</td>\n",
       "      <td>LOCAL</td>\n",
       "      <td>[{\"run_id\": \"21ec283e2bda4439b65688008cb89f7c\"...</td>\n",
       "      <td>LogisticRegression</td>\n",
       "      <td>abdellahi60</td>\n",
       "      <td>C:\\Users\\TOSHIBA\\anaconda3\\lib\\site-packages\\i...</td>\n",
       "      <td>X_resampled</td>\n",
       "      <td>y_resampled</td>\n",
       "      <td>LogisticRegression</td>\n",
       "    </tr>\n",
       "    <tr>\n",
       "      <th>3</th>\n",
       "      <td>24d75e26c0004d9d8fa9b805ff8e86cb</td>\n",
       "      <td>0</td>\n",
       "      <td>FINISHED</td>\n",
       "      <td>mlflow-artifacts:/17c91d3dd12c4d9faa80b11479c8...</td>\n",
       "      <td>2024-11-27 22:32:39.362000+00:00</td>\n",
       "      <td>2024-11-27 22:33:23.206000+00:00</td>\n",
       "      <td>NaN</td>\n",
       "      <td>0.184899</td>\n",
       "      <td>0.315499</td>\n",
       "      <td>0.222108</td>\n",
       "      <td>...</td>\n",
       "      <td>None</td>\n",
       "      <td>lbfgs</td>\n",
       "      <td>LOCAL</td>\n",
       "      <td>[{\"run_id\": \"24d75e26c0004d9d8fa9b805ff8e86cb\"...</td>\n",
       "      <td>LogisticRegression</td>\n",
       "      <td>abdellahi60</td>\n",
       "      <td>C:\\Users\\TOSHIBA\\anaconda3\\lib\\site-packages\\i...</td>\n",
       "      <td>X_resampled</td>\n",
       "      <td>y_resampled</td>\n",
       "      <td>LogisticRegression</td>\n",
       "    </tr>\n",
       "  </tbody>\n",
       "</table>\n",
       "<p>4 rows × 85 columns</p>\n",
       "</div>"
      ],
      "text/plain": [
       "                             run_id experiment_id    status  \\\n",
       "0  3fc9b373ab44498fac7b1bc27020f9f2             0  FINISHED   \n",
       "1  6d2fef937fbe49f0a537876c196579c9             0    FAILED   \n",
       "2  21ec283e2bda4439b65688008cb89f7c             0  FINISHED   \n",
       "3  24d75e26c0004d9d8fa9b805ff8e86cb             0  FINISHED   \n",
       "\n",
       "                                        artifact_uri  \\\n",
       "0  mlflow-artifacts:/17c91d3dd12c4d9faa80b11479c8...   \n",
       "1  mlflow-artifacts:/17c91d3dd12c4d9faa80b11479c8...   \n",
       "2  mlflow-artifacts:/17c91d3dd12c4d9faa80b11479c8...   \n",
       "3  mlflow-artifacts:/17c91d3dd12c4d9faa80b11479c8...   \n",
       "\n",
       "                        start_time                         end_time  \\\n",
       "0 2024-11-28 18:05:39.619000+00:00 2024-11-28 18:06:24.088000+00:00   \n",
       "1 2024-11-27 23:29:58.249000+00:00 2024-11-28 18:02:00.447000+00:00   \n",
       "2 2024-11-27 23:15:55.657000+00:00 2024-11-27 23:20:10.560000+00:00   \n",
       "3 2024-11-27 22:32:39.362000+00:00 2024-11-27 22:33:23.206000+00:00   \n",
       "\n",
       "   metrics.F2-score  metrics.F1_score_test  metrics.Recall_test  \\\n",
       "0          0.797251               0.797251                  NaN   \n",
       "1               NaN               0.229810             0.246312   \n",
       "2               NaN               0.185616             0.316496   \n",
       "3               NaN               0.184899             0.315499   \n",
       "\n",
       "   metrics.Precision_test  ... params.l1_ratio params.solver  \\\n",
       "0                     NaN  ...            None          None   \n",
       "1                0.222875  ...            None          None   \n",
       "2                0.222966  ...            None         lbfgs   \n",
       "3                0.222108  ...            None         lbfgs   \n",
       "\n",
       "  tags.mlflow.source.type                      tags.mlflow.log-model.history  \\\n",
       "0                   LOCAL  [{\"run_id\": \"3fc9b373ab44498fac7b1bc27020f9f2\"...   \n",
       "1                   LOCAL                                               None   \n",
       "2                   LOCAL  [{\"run_id\": \"21ec283e2bda4439b65688008cb89f7c\"...   \n",
       "3                   LOCAL  [{\"run_id\": \"24d75e26c0004d9d8fa9b805ff8e86cb\"...   \n",
       "\n",
       "      tags.mlflow.runName tags.mlflow.user  \\\n",
       "0                 XGBoost      abdellahi60   \n",
       "1  RandomForestClassifier      abdellahi60   \n",
       "2      LogisticRegression      abdellahi60   \n",
       "3      LogisticRegression      abdellahi60   \n",
       "\n",
       "                             tags.mlflow.source.name tags.train_features_name  \\\n",
       "0  C:\\Users\\TOSHIBA\\anaconda3\\lib\\site-packages\\i...                     None   \n",
       "1  C:\\Users\\TOSHIBA\\anaconda3\\lib\\site-packages\\i...              X_resampled   \n",
       "2  C:\\Users\\TOSHIBA\\anaconda3\\lib\\site-packages\\i...              X_resampled   \n",
       "3  C:\\Users\\TOSHIBA\\anaconda3\\lib\\site-packages\\i...              X_resampled   \n",
       "\n",
       "  tags.train_label_name              tags.model  \n",
       "0                  None                    None  \n",
       "1           y_resampled  RandomForestClassifier  \n",
       "2           y_resampled      LogisticRegression  \n",
       "3           y_resampled      LogisticRegression  \n",
       "\n",
       "[4 rows x 85 columns]"
      ]
     },
     "execution_count": 32,
     "metadata": {},
     "output_type": "execute_result"
    }
   ],
   "source": [
    "df_mlflow"
   ]
  },
  {
   "cell_type": "code",
   "execution_count": 82,
   "id": "b83fe124",
   "metadata": {},
   "outputs": [
    {
     "data": {
      "application/vnd.jupyter.widget-view+json": {
       "model_id": "9697591ca45547d3be2e2b8b3476aa07",
       "version_major": 2,
       "version_minor": 0
      },
      "text/plain": [
       "Downloading artifacts:   0%|          | 0/5 [00:00<?, ?it/s]"
      ]
     },
     "metadata": {},
     "output_type": "display_data"
    },
    {
     "name": "stdout",
     "output_type": "stream",
     "text": [
      "mlflow.pyfunc.loaded_model:\n",
      "  artifact_path: ML_models\n",
      "  flavor: mlflow.xgboost\n",
      "  run_id: 86778d570cf54359818dee0557c2a489\n",
      "\n"
     ]
    },
    {
     "data": {
      "text/plain": [
       "array([1, 1, 1, ..., 1, 1, 1], dtype=int64)"
      ]
     },
     "execution_count": 82,
     "metadata": {},
     "output_type": "execute_result"
    }
   ],
   "source": [
    "#let's call the model from the model registry ( in production stage)\n",
    "import mlflow.pyfunc\n",
    "\n",
    "logged_model = f'runs:/{run_id}/ML_models'\n",
    "\n",
    "# Load model as a PyFuncModel.\n",
    "loaded_model = mlflow.pyfunc.load_model(logged_model)\n",
    "print(loaded_model)\n",
    "\n",
    "# Predict on a Pandas DataFrame.\n",
    "\n",
    "loaded_model.predict(X_test_encoded)"
   ]
  },
  {
   "cell_type": "code",
   "execution_count": null,
   "id": "be064ce5",
   "metadata": {},
   "outputs": [],
   "source": []
  }
 ],
 "metadata": {
  "kernelspec": {
   "display_name": "Python 3 (ipykernel)",
   "language": "python",
   "name": "python3"
  },
  "language_info": {
   "codemirror_mode": {
    "name": "ipython",
    "version": 3
   },
   "file_extension": ".py",
   "mimetype": "text/x-python",
   "name": "python",
   "nbconvert_exporter": "python",
   "pygments_lexer": "ipython3",
   "version": "3.9.19"
  }
 },
 "nbformat": 4,
 "nbformat_minor": 5
}
